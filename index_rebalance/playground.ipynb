{
 "cells": [
  {
   "cell_type": "markdown",
   "id": "4ed36321",
   "metadata": {},
   "source": [
    "# Current Constituent"
   ]
  },
  {
   "cell_type": "code",
   "execution_count": 1,
   "id": "d76714a3",
   "metadata": {},
   "outputs": [],
   "source": [
    "import pandas as pd\n",
    "import yfinance as yf"
   ]
  },
  {
   "cell_type": "markdown",
   "id": "55024e2f",
   "metadata": {},
   "source": [
    "## Tutorials"
   ]
  },
  {
   "cell_type": "markdown",
   "id": "2b347d1b",
   "metadata": {},
   "source": [
    "### List"
   ]
  },
  {
   "cell_type": "code",
   "execution_count": 2,
   "id": "b445d965",
   "metadata": {},
   "outputs": [
    {
     "name": "stdout",
     "output_type": "stream",
     "text": [
      "{'e'}\n",
      "{'b', 'e', 'c', 'f', 'g', 'a', 'd'}\n"
     ]
    }
   ],
   "source": [
    "a = ['a', 'b', 'c', 'd', 'e', 'a']\n",
    "b = [1, 2, 3]\n",
    "# print(f'there are {len(a)} elements in the list')\n",
    "# print(f'the first element in the list is {a[0]}')\n",
    "# print(f'the last element in the list is {a[-1]}')\n",
    "# print(f'the subset of the list starting from the second element till the second last is {a[1:4]}')\n",
    "# print(a[:-1])\n",
    "\n",
    "# print(list(enumerate(a)))\n",
    "# for i, element in enumerate(a):\n",
    "    # print(f'{i}: {element}')\n",
    "\n",
    "# print(list(zip(a, b)))\n",
    "# for i, j in zip(a, b):\n",
    "# # for i, j in [('a', 1), ('b', 2), ('c', 3)]:\n",
    "#     print(i, j)\n",
    "\n",
    "set_a = set(a)\n",
    "set_b = set(['e', 'f', 'g'])\n",
    "# print(set_a)\n",
    "# print(sorted(a, reverse=True))\n",
    "print(set_a.intersection(set_b))\n",
    "print(set_a.union(set_b))"
   ]
  },
  {
   "cell_type": "markdown",
   "id": "6004d934",
   "metadata": {},
   "source": [
    "### Pandas"
   ]
  },
  {
   "cell_type": "code",
   "execution_count": 3,
   "id": "b87e9d0c",
   "metadata": {},
   "outputs": [
    {
     "data": {
      "text/html": [
       "<div>\n",
       "<style scoped>\n",
       "    .dataframe tbody tr th:only-of-type {\n",
       "        vertical-align: middle;\n",
       "    }\n",
       "\n",
       "    .dataframe tbody tr th {\n",
       "        vertical-align: top;\n",
       "    }\n",
       "\n",
       "    .dataframe thead th {\n",
       "        text-align: right;\n",
       "    }\n",
       "</style>\n",
       "<table border=\"1\" class=\"dataframe\">\n",
       "  <thead>\n",
       "    <tr style=\"text-align: right;\">\n",
       "      <th></th>\n",
       "      <th>name</th>\n",
       "      <th>sex</th>\n",
       "    </tr>\n",
       "  </thead>\n",
       "  <tbody>\n",
       "    <tr>\n",
       "      <th>0</th>\n",
       "      <td>Marshall</td>\n",
       "      <td>male</td>\n",
       "    </tr>\n",
       "    <tr>\n",
       "      <th>1</th>\n",
       "      <td>Kate</td>\n",
       "      <td>female</td>\n",
       "    </tr>\n",
       "  </tbody>\n",
       "</table>\n",
       "</div>"
      ],
      "text/plain": [
       "       name     sex\n",
       "0  Marshall    male\n",
       "1      Kate  female"
      ]
     },
     "execution_count": 3,
     "metadata": {},
     "output_type": "execute_result"
    }
   ],
   "source": [
    "df = [{\"name\": \"Marshall\", \"sex\": \"male\"}, {\"name\": \"Kate\", \"sex\": \"female\"}]\n",
    "df = pd.DataFrame(df)\n",
    "df"
   ]
  },
  {
   "cell_type": "code",
   "execution_count": 4,
   "id": "d9ae526d",
   "metadata": {},
   "outputs": [
    {
     "name": "stdout",
     "output_type": "stream",
     "text": [
      "there are 2 rows in df\n",
      "there are 2 columns in df: ['name', 'sex']\n",
      "the first row of df is:\n",
      "<class 'pandas.core.series.Series'>\n"
     ]
    }
   ],
   "source": [
    "print(f'there are {len(df)} rows in df')\n",
    "print(f'there are {len(df.columns)} columns in df: {list(df.columns)}')\n",
    "print(f'the first row of df is:')\n",
    "print(type(df.iloc[0]))"
   ]
  },
  {
   "cell_type": "markdown",
   "id": "298c8874",
   "metadata": {},
   "source": [
    "### Class"
   ]
  },
  {
   "cell_type": "code",
   "execution_count": 5,
   "id": "20103e0c",
   "metadata": {},
   "outputs": [
    {
     "name": "stdout",
     "output_type": "stream",
     "text": [
      "male\n",
      "Hi my name is Marshall. I am male\n",
      "I am 26 years old\n",
      "hi\n",
      "Hi my name is Kate. I am a Female ML Engineer\n",
      "I am 0 years old\n"
     ]
    }
   ],
   "source": [
    "class Person:\n",
    "    def __init__(self, name: str, sex: str):\n",
    "        self.name = name\n",
    "        self.sex = sex\n",
    "    \n",
    "    def self_intro(self, age: int = 0):\n",
    "        print(f'Hi my name is {self.name}. I am {self.sex}')\n",
    "        print(f'I am {age} years old')\n",
    "    \n",
    "    @staticmethod\n",
    "    def say(word: str):\n",
    "        print(word)\n",
    "\n",
    "marshall = Person(name=\"Marshall\", sex=\"male\")\n",
    "print(marshall.sex)\n",
    "marshall.self_intro(26)\n",
    "marshall.say('hi')\n",
    "\n",
    "class Employee(Person):\n",
    "    def __init__(self, name, sex, job):\n",
    "        super().__init__(name, sex)\n",
    "        self.job = job\n",
    "    \n",
    "    def self_intro(self, age: int = 0):\n",
    "        print(f'Hi my name is {self.name}. I am a {self.sex} {self.job}')\n",
    "        print(f'I am {age} years old')\n",
    "    \n",
    "\n",
    "kate = Employee(name=\"Kate\", sex=\"Female\", job=\"ML Engineer\")\n",
    "kate.self_intro()"
   ]
  },
  {
   "cell_type": "markdown",
   "id": "90275b53",
   "metadata": {},
   "source": [
    "## Get Constituent"
   ]
  },
  {
   "cell_type": "code",
   "execution_count": 6,
   "id": "60f36306",
   "metadata": {},
   "outputs": [],
   "source": [
    "# Step 1: Get FTSE 100 tickers from Wikipedia\n",
    "ftse_url = \"https://en.wikipedia.org/wiki/FTSE_100_Index\"\n",
    "tables = pd.read_html(ftse_url)\n",
    "ftse_df = tables[4]  # The table of constituents\n",
    "ftse_tickers = ftse_df['Ticker'].tolist()\n",
    "company_names = ftse_df['Company'].tolist()\n",
    "\n",
    "# # Step 2: Append '.L' for Yahoo Finance (London Exchange)\n",
    "tickers = [t + \".L\" for t in ftse_tickers]\n",
    "\n",
    "# Step 3: Fetch data from yfinance\n",
    "data = []\n",
    "\n",
    "for symbol, name in zip(tickers, company_names):\n",
    "    try:\n",
    "        stock = yf.Ticker(symbol)\n",
    "        info = stock.info\n",
    "        info_dict = {\n",
    "            \"ticker\": symbol,\n",
    "            \"company\": name,\n",
    "            \"price\": info.get(\"currentPrice\"),\n",
    "            \"market_cap\": info.get(\"marketCap\"),\n",
    "            \"float_shares\": info.get(\"floatShares\"),\n",
    "        }\n",
    "        data.append(info_dict)\n",
    "    except Exception as e:\n",
    "        print(f\"Error fetching {symbol}: {e}\")\n",
    "\n",
    "# Step 4: Convert to DataFrame and sort\n",
    "df = pd.DataFrame(data)\n",
    "df = df.sort_values(by=\"market_cap\", ascending=False)\n"
   ]
  },
  {
   "cell_type": "code",
   "execution_count": 7,
   "id": "28cb845c",
   "metadata": {},
   "outputs": [
    {
     "data": {
      "text/html": [
       "<div>\n",
       "<style scoped>\n",
       "    .dataframe tbody tr th:only-of-type {\n",
       "        vertical-align: middle;\n",
       "    }\n",
       "\n",
       "    .dataframe tbody tr th {\n",
       "        vertical-align: top;\n",
       "    }\n",
       "\n",
       "    .dataframe thead th {\n",
       "        text-align: right;\n",
       "    }\n",
       "</style>\n",
       "<table border=\"1\" class=\"dataframe\">\n",
       "  <thead>\n",
       "    <tr style=\"text-align: right;\">\n",
       "      <th></th>\n",
       "      <th>ticker</th>\n",
       "      <th>company</th>\n",
       "      <th>price</th>\n",
       "      <th>market_cap</th>\n",
       "      <th>float_shares</th>\n",
       "    </tr>\n",
       "  </thead>\n",
       "  <tbody>\n",
       "    <tr>\n",
       "      <th>8</th>\n",
       "      <td>AZN.L</td>\n",
       "      <td>AstraZeneca</td>\n",
       "      <td>10548.00</td>\n",
       "      <td>163517202432</td>\n",
       "      <td>1.543226e+09</td>\n",
       "    </tr>\n",
       "    <tr>\n",
       "      <th>84</th>\n",
       "      <td>SHEL.L</td>\n",
       "      <td>Shell plc</td>\n",
       "      <td>2667.00</td>\n",
       "      <td>157305257984</td>\n",
       "      <td>5.864176e+09</td>\n",
       "    </tr>\n",
       "    <tr>\n",
       "      <th>44</th>\n",
       "      <td>HSBA.L</td>\n",
       "      <td>HSBC</td>\n",
       "      <td>874.70</td>\n",
       "      <td>153095241728</td>\n",
       "      <td>1.585456e+10</td>\n",
       "    </tr>\n",
       "    <tr>\n",
       "      <th>93</th>\n",
       "      <td>ULVR.L</td>\n",
       "      <td>Unilever</td>\n",
       "      <td>4618.00</td>\n",
       "      <td>113267073024</td>\n",
       "      <td>2.456089e+09</td>\n",
       "    </tr>\n",
       "    <tr>\n",
       "      <th>18</th>\n",
       "      <td>BATS.L</td>\n",
       "      <td>British American Tobacco</td>\n",
       "      <td>3662.00</td>\n",
       "      <td>80172531712</td>\n",
       "      <td>1.820145e+09</td>\n",
       "    </tr>\n",
       "    <tr>\n",
       "      <th>...</th>\n",
       "      <td>...</td>\n",
       "      <td>...</td>\n",
       "      <td>...</td>\n",
       "      <td>...</td>\n",
       "      <td>...</td>\n",
       "    </tr>\n",
       "    <tr>\n",
       "      <th>95</th>\n",
       "      <td>UTG.L</td>\n",
       "      <td>Unite Group</td>\n",
       "      <td>856.00</td>\n",
       "      <td>4187106816</td>\n",
       "      <td>4.430807e+08</td>\n",
       "    </tr>\n",
       "    <tr>\n",
       "      <th>16</th>\n",
       "      <td>BKG.L</td>\n",
       "      <td>Berkeley Group Holdings</td>\n",
       "      <td>4160.00</td>\n",
       "      <td>4118824192</td>\n",
       "      <td>9.941106e+07</td>\n",
       "    </tr>\n",
       "    <tr>\n",
       "      <th>70</th>\n",
       "      <td>PCT.L</td>\n",
       "      <td>Polar Capital Technology Trust</td>\n",
       "      <td>347.50</td>\n",
       "      <td>4043406080</td>\n",
       "      <td>NaN</td>\n",
       "    </tr>\n",
       "    <tr>\n",
       "      <th>32</th>\n",
       "      <td>EZJ.L</td>\n",
       "      <td>EasyJet</td>\n",
       "      <td>537.60</td>\n",
       "      <td>4036241408</td>\n",
       "      <td>6.003043e+08</td>\n",
       "    </tr>\n",
       "    <tr>\n",
       "      <th>52</th>\n",
       "      <td>JD.L</td>\n",
       "      <td>JD Sports</td>\n",
       "      <td>75.14</td>\n",
       "      <td>3821011968</td>\n",
       "      <td>2.453800e+09</td>\n",
       "    </tr>\n",
       "  </tbody>\n",
       "</table>\n",
       "<p>100 rows × 5 columns</p>\n",
       "</div>"
      ],
      "text/plain": [
       "    ticker                         company     price    market_cap  \\\n",
       "8    AZN.L                     AstraZeneca  10548.00  163517202432   \n",
       "84  SHEL.L                       Shell plc   2667.00  157305257984   \n",
       "44  HSBA.L                            HSBC    874.70  153095241728   \n",
       "93  ULVR.L                        Unilever   4618.00  113267073024   \n",
       "18  BATS.L        British American Tobacco   3662.00   80172531712   \n",
       "..     ...                             ...       ...           ...   \n",
       "95   UTG.L                     Unite Group    856.00    4187106816   \n",
       "16   BKG.L         Berkeley Group Holdings   4160.00    4118824192   \n",
       "70   PCT.L  Polar Capital Technology Trust    347.50    4043406080   \n",
       "32   EZJ.L                         EasyJet    537.60    4036241408   \n",
       "52    JD.L                       JD Sports     75.14    3821011968   \n",
       "\n",
       "    float_shares  \n",
       "8   1.543226e+09  \n",
       "84  5.864176e+09  \n",
       "44  1.585456e+10  \n",
       "93  2.456089e+09  \n",
       "18  1.820145e+09  \n",
       "..           ...  \n",
       "95  4.430807e+08  \n",
       "16  9.941106e+07  \n",
       "70           NaN  \n",
       "32  6.003043e+08  \n",
       "52  2.453800e+09  \n",
       "\n",
       "[100 rows x 5 columns]"
      ]
     },
     "execution_count": 7,
     "metadata": {},
     "output_type": "execute_result"
    }
   ],
   "source": [
    "df"
   ]
  }
 ],
 "metadata": {
  "kernelspec": {
   "display_name": "index-rebalance-6mr_z-Qg-py3.11",
   "language": "python",
   "name": "python3"
  },
  "language_info": {
   "codemirror_mode": {
    "name": "ipython",
    "version": 3
   },
   "file_extension": ".py",
   "mimetype": "text/x-python",
   "name": "python",
   "nbconvert_exporter": "python",
   "pygments_lexer": "ipython3",
   "version": "3.11.7"
  }
 },
 "nbformat": 4,
 "nbformat_minor": 5
}
